{
 "cells": [
  {
   "cell_type": "code",
   "execution_count": 2,
   "id": "28e877a3-14ed-4878-a28f-0213e04ee0aa",
   "metadata": {},
   "outputs": [],
   "source": [
    " # -*- coding: utf-8 -*-\n",
    "from bs4 import BeautifulSoup\n",
    "from datetime import datetime\n",
    "import requests\n",
    "import pandas as pd\n",
    "import re\n",
    " \n",
    "#각 크롤링 결과 저장하기 위한 리스트 선언\n",
    "title_text=[]\n",
    "link_text=[]\n",
    "result={}\n",
    "\n",
    "#판매량 순위 탑100에 대한 품목코드 불러오기\n",
    "dt =pd.read_csv(\"C:/Users/user/Desktop/cj/sp1.csv\", encoding = \"cp949\")\n",
    "cd100 = dt['cd'].head(100)\n",
    "\n",
    "#엑셀로 저장하기 위한 변수\n",
    "RESULT_PATH ='C:/Users/user/Desktop/cj'  #결과 저장할 경로\n",
    "\n",
    "\n",
    "#크롤링 시작\n",
    "def crawler(cd100):\n",
    "    for shrp in cd100:\n",
    "        url = \"https://search.naver.com/search.naver?where=nexearch&sm=top_hty&fbm=0&ie=utf8&query=\" + shrp\n",
    "        response = requests.get(url)\n",
    "        html = response.text\n",
    "\n",
    "        #뷰티풀소프의 인자값 지정\n",
    "        soup = BeautifulSoup(html, 'html.parser')\n",
    "\n",
    "        #<a>태그에서 제목과 링크주소 (a 태그 중 class 명이 news_tit인 것)\n",
    "        atags = soup.find_all('a', 'link_tit')\n",
    "        title = atags\n",
    "        title_text.append(title)     #제목\n",
    "\n",
    "    #모든 리스트 딕셔너리형태로 저장\n",
    "    result= {\"title\":title_text}\n",
    "    df = pd.DataFrame(result)  #df로 변환\n",
    "    \n",
    "    # 새로 만들 파일이름 지정\n",
    "    outputFileName = '\\sp_cr.csv'\n",
    "    df.to_csv(RESULT_PATH+outputFileName, encoding='utf-8-sig')\n",
    "    \n",
    "#메인함수\n",
    "def main():\n",
    "    crawler(cd100)\n",
    "\n",
    "#메인함수 수행\n",
    "main()"
   ]
  },
  {
   "cell_type": "code",
   "execution_count": null,
   "id": "ed7e45a3-657a-4545-8458-227316d4cf1f",
   "metadata": {},
   "outputs": [],
   "source": []
  }
 ],
 "metadata": {
  "kernelspec": {
   "display_name": "Python 3 (ipykernel)",
   "language": "python",
   "name": "python3"
  },
  "language_info": {
   "codemirror_mode": {
    "name": "ipython",
    "version": 3
   },
   "file_extension": ".py",
   "mimetype": "text/x-python",
   "name": "python",
   "nbconvert_exporter": "python",
   "pygments_lexer": "ipython3",
   "version": "3.8.11"
  }
 },
 "nbformat": 4,
 "nbformat_minor": 5
}
