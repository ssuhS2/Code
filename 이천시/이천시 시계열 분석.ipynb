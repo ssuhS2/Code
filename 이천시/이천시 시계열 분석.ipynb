{
 "cells": [
  {
   "cell_type": "markdown",
   "id": "7e400618",
   "metadata": {},
   "source": [
    "# 시계열 분석(최종)"
   ]
  },
  {
   "cell_type": "markdown",
   "id": "140fa08e",
   "metadata": {},
   "source": [
    "### 미세먼지"
   ]
  },
  {
   "cell_type": "code",
   "execution_count": 1,
   "id": "619d92b9",
   "metadata": {},
   "outputs": [],
   "source": [
    "import pandas as pd\n",
    "import matplotlib.pyplot as plt"
   ]
  },
  {
   "cell_type": "code",
   "execution_count": 2,
   "id": "8c5d858b",
   "metadata": {},
   "outputs": [],
   "source": [
    "# 한글 폰트 사용을 위해서 세팅\n",
    "from matplotlib import font_manager, rc\n",
    "font_path = \"C:/Windows/Fonts/NGULIM.TTF\"\n",
    "font = font_manager.FontProperties(fname=font_path).get_name()\n",
    "rc('font', family=font)"
   ]
  },
  {
   "cell_type": "code",
   "execution_count": 3,
   "id": "4a487ae4",
   "metadata": {
    "scrolled": true
   },
   "outputs": [],
   "source": [
    "#icheon = pd.read_csv(\"C:/Users/user/Desktop/NIA/icheon/data.csv\", encoding = 'cp949') #주소통합데이터\n",
    "icheon = pd.read_excel(\"C:/Users/user/Desktop/NIA/icheon/미세먼지관측소정제.xlsx\")"
   ]
  },
  {
   "cell_type": "code",
   "execution_count": 165,
   "id": "2e608bd6",
   "metadata": {
    "scrolled": true
   },
   "outputs": [
    {
     "data": {
      "text/html": [
       "<div>\n",
       "<style scoped>\n",
       "    .dataframe tbody tr th:only-of-type {\n",
       "        vertical-align: middle;\n",
       "    }\n",
       "\n",
       "    .dataframe tbody tr th {\n",
       "        vertical-align: top;\n",
       "    }\n",
       "\n",
       "    .dataframe thead th {\n",
       "        text-align: right;\n",
       "    }\n",
       "</style>\n",
       "<table border=\"1\" class=\"dataframe\">\n",
       "  <thead>\n",
       "    <tr style=\"text-align: right;\">\n",
       "      <th></th>\n",
       "      <th>연도</th>\n",
       "      <th>계절</th>\n",
       "      <th>월</th>\n",
       "      <th>측정일시</th>\n",
       "      <th>장비 일련번호</th>\n",
       "      <th>측정장소</th>\n",
       "      <th>측정주소</th>\n",
       "      <th>법정동</th>\n",
       "      <th>행정동</th>\n",
       "      <th>행정리</th>\n",
       "      <th>PM10</th>\n",
       "      <th>PM2.5</th>\n",
       "      <th>온도</th>\n",
       "      <th>습도</th>\n",
       "      <th>소음</th>\n",
       "      <th>X좌표</th>\n",
       "      <th>Y좌표</th>\n",
       "    </tr>\n",
       "  </thead>\n",
       "  <tbody>\n",
       "    <tr>\n",
       "      <th>0</th>\n",
       "      <td>2021</td>\n",
       "      <td>봄</td>\n",
       "      <td>5</td>\n",
       "      <td>2021-05-08</td>\n",
       "      <td>2020_SEN2ND_1035</td>\n",
       "      <td>이천시농업기술센터</td>\n",
       "      <td>경기도 이천시 중리동 386-1</td>\n",
       "      <td>중리동</td>\n",
       "      <td>중리동</td>\n",
       "      <td>NaN</td>\n",
       "      <td>377.98</td>\n",
       "      <td>285.92</td>\n",
       "      <td>16.87</td>\n",
       "      <td>92.21</td>\n",
       "      <td>46.97</td>\n",
       "      <td>127.432575</td>\n",
       "      <td>37.272679</td>\n",
       "    </tr>\n",
       "    <tr>\n",
       "      <th>1</th>\n",
       "      <td>2021</td>\n",
       "      <td>봄</td>\n",
       "      <td>5</td>\n",
       "      <td>2021-05-08</td>\n",
       "      <td>2020_SEN2ND_1027</td>\n",
       "      <td>해강도자미술관</td>\n",
       "      <td>경기도 이천시 신둔면 수광리 321-10</td>\n",
       "      <td>신둔면</td>\n",
       "      <td>신둔면</td>\n",
       "      <td>수광리</td>\n",
       "      <td>483.75</td>\n",
       "      <td>267.61</td>\n",
       "      <td>16.03</td>\n",
       "      <td>97.33</td>\n",
       "      <td>47.51</td>\n",
       "      <td>127.405849</td>\n",
       "      <td>37.307484</td>\n",
       "    </tr>\n",
       "    <tr>\n",
       "      <th>2</th>\n",
       "      <td>2021</td>\n",
       "      <td>봄</td>\n",
       "      <td>5</td>\n",
       "      <td>2021-05-08</td>\n",
       "      <td>2020_SEN2ND_1011</td>\n",
       "      <td>사동삼거리</td>\n",
       "      <td>경기도 이천시 대월면 사동리 347-95</td>\n",
       "      <td>대월면</td>\n",
       "      <td>대월면</td>\n",
       "      <td>사동리</td>\n",
       "      <td>463.01</td>\n",
       "      <td>262.63</td>\n",
       "      <td>18.18</td>\n",
       "      <td>87.58</td>\n",
       "      <td>47.00</td>\n",
       "      <td>127.494679</td>\n",
       "      <td>37.244241</td>\n",
       "    </tr>\n",
       "    <tr>\n",
       "      <th>3</th>\n",
       "      <td>2021</td>\n",
       "      <td>봄</td>\n",
       "      <td>5</td>\n",
       "      <td>2021-05-08</td>\n",
       "      <td>2020_SEN2ND_1013</td>\n",
       "      <td>후안1리마을회관</td>\n",
       "      <td>경기도 이천시 호법면 후안리 274</td>\n",
       "      <td>호법면</td>\n",
       "      <td>호법면</td>\n",
       "      <td>후안리</td>\n",
       "      <td>344.50</td>\n",
       "      <td>255.01</td>\n",
       "      <td>15.41</td>\n",
       "      <td>96.67</td>\n",
       "      <td>46.37</td>\n",
       "      <td>127.423821</td>\n",
       "      <td>37.224129</td>\n",
       "    </tr>\n",
       "    <tr>\n",
       "      <th>4</th>\n",
       "      <td>2021</td>\n",
       "      <td>봄</td>\n",
       "      <td>5</td>\n",
       "      <td>2021-05-08</td>\n",
       "      <td>2020_SEN2ND_1022</td>\n",
       "      <td>오늘손칼국수해물찜 인근</td>\n",
       "      <td>경기도 이천시 호법면  유산리 356-5</td>\n",
       "      <td>호법면</td>\n",
       "      <td>호법면</td>\n",
       "      <td>유산리</td>\n",
       "      <td>391.49</td>\n",
       "      <td>254.65</td>\n",
       "      <td>15.07</td>\n",
       "      <td>60.38</td>\n",
       "      <td>60.76</td>\n",
       "      <td>127.441227</td>\n",
       "      <td>37.247723</td>\n",
       "    </tr>\n",
       "    <tr>\n",
       "      <th>...</th>\n",
       "      <td>...</td>\n",
       "      <td>...</td>\n",
       "      <td>...</td>\n",
       "      <td>...</td>\n",
       "      <td>...</td>\n",
       "      <td>...</td>\n",
       "      <td>...</td>\n",
       "      <td>...</td>\n",
       "      <td>...</td>\n",
       "      <td>...</td>\n",
       "      <td>...</td>\n",
       "      <td>...</td>\n",
       "      <td>...</td>\n",
       "      <td>...</td>\n",
       "      <td>...</td>\n",
       "      <td>...</td>\n",
       "      <td>...</td>\n",
       "    </tr>\n",
       "    <tr>\n",
       "      <th>36176</th>\n",
       "      <td>2021</td>\n",
       "      <td>봄</td>\n",
       "      <td>4</td>\n",
       "      <td>2021-04-14</td>\n",
       "      <td>2020_SEN2ND_1003</td>\n",
       "      <td>금강환경산업㈜</td>\n",
       "      <td>경기도 이천시 모가면 소고리 96-14</td>\n",
       "      <td>모가면</td>\n",
       "      <td>모가면</td>\n",
       "      <td>소고리</td>\n",
       "      <td>0.10</td>\n",
       "      <td>0.00</td>\n",
       "      <td>10.40</td>\n",
       "      <td>84.71</td>\n",
       "      <td>50.60</td>\n",
       "      <td>127.462793</td>\n",
       "      <td>37.173993</td>\n",
       "    </tr>\n",
       "    <tr>\n",
       "      <th>36177</th>\n",
       "      <td>2021</td>\n",
       "      <td>봄</td>\n",
       "      <td>4</td>\n",
       "      <td>2021-04-17</td>\n",
       "      <td>2020_SEN2ND_1003</td>\n",
       "      <td>금강환경산업㈜</td>\n",
       "      <td>경기도 이천시 모가면 소고리 96-14</td>\n",
       "      <td>모가면</td>\n",
       "      <td>모가면</td>\n",
       "      <td>소고리</td>\n",
       "      <td>0.10</td>\n",
       "      <td>0.00</td>\n",
       "      <td>10.72</td>\n",
       "      <td>86.29</td>\n",
       "      <td>51.25</td>\n",
       "      <td>127.462793</td>\n",
       "      <td>37.173993</td>\n",
       "    </tr>\n",
       "    <tr>\n",
       "      <th>36178</th>\n",
       "      <td>2021</td>\n",
       "      <td>봄</td>\n",
       "      <td>4</td>\n",
       "      <td>2021-04-20</td>\n",
       "      <td>2020_SEN2ND_1003</td>\n",
       "      <td>금강환경산업㈜</td>\n",
       "      <td>경기도 이천시 모가면 소고리 96-14</td>\n",
       "      <td>모가면</td>\n",
       "      <td>모가면</td>\n",
       "      <td>소고리</td>\n",
       "      <td>0.10</td>\n",
       "      <td>0.00</td>\n",
       "      <td>17.41</td>\n",
       "      <td>81.38</td>\n",
       "      <td>46.38</td>\n",
       "      <td>127.462793</td>\n",
       "      <td>37.173993</td>\n",
       "    </tr>\n",
       "    <tr>\n",
       "      <th>36179</th>\n",
       "      <td>2021</td>\n",
       "      <td>봄</td>\n",
       "      <td>4</td>\n",
       "      <td>2021-04-26</td>\n",
       "      <td>2020_SEN2ND_1003</td>\n",
       "      <td>금강환경산업㈜</td>\n",
       "      <td>경기도 이천시 모가면 소고리 96-14</td>\n",
       "      <td>모가면</td>\n",
       "      <td>모가면</td>\n",
       "      <td>소고리</td>\n",
       "      <td>0.10</td>\n",
       "      <td>0.00</td>\n",
       "      <td>19.10</td>\n",
       "      <td>70.04</td>\n",
       "      <td>45.61</td>\n",
       "      <td>127.462793</td>\n",
       "      <td>37.173993</td>\n",
       "    </tr>\n",
       "    <tr>\n",
       "      <th>36180</th>\n",
       "      <td>2021</td>\n",
       "      <td>봄</td>\n",
       "      <td>4</td>\n",
       "      <td>2021-04-27</td>\n",
       "      <td>2020_SEN2ND_1003</td>\n",
       "      <td>금강환경산업㈜</td>\n",
       "      <td>경기도 이천시 모가면 소고리 96-14</td>\n",
       "      <td>모가면</td>\n",
       "      <td>모가면</td>\n",
       "      <td>소고리</td>\n",
       "      <td>0.10</td>\n",
       "      <td>0.00</td>\n",
       "      <td>17.94</td>\n",
       "      <td>94.96</td>\n",
       "      <td>45.79</td>\n",
       "      <td>127.462793</td>\n",
       "      <td>37.173993</td>\n",
       "    </tr>\n",
       "  </tbody>\n",
       "</table>\n",
       "<p>36181 rows × 17 columns</p>\n",
       "</div>"
      ],
      "text/plain": [
       "         연도 계절  월       측정일시           장비 일련번호          측정장소  \\\n",
       "0      2021  봄  5 2021-05-08  2020_SEN2ND_1035     이천시농업기술센터   \n",
       "1      2021  봄  5 2021-05-08  2020_SEN2ND_1027       해강도자미술관   \n",
       "2      2021  봄  5 2021-05-08  2020_SEN2ND_1011         사동삼거리   \n",
       "3      2021  봄  5 2021-05-08  2020_SEN2ND_1013      후안1리마을회관   \n",
       "4      2021  봄  5 2021-05-08  2020_SEN2ND_1022  오늘손칼국수해물찜 인근   \n",
       "...     ... .. ..        ...               ...           ...   \n",
       "36176  2021  봄  4 2021-04-14  2020_SEN2ND_1003       금강환경산업㈜   \n",
       "36177  2021  봄  4 2021-04-17  2020_SEN2ND_1003       금강환경산업㈜   \n",
       "36178  2021  봄  4 2021-04-20  2020_SEN2ND_1003       금강환경산업㈜   \n",
       "36179  2021  봄  4 2021-04-26  2020_SEN2ND_1003       금강환경산업㈜   \n",
       "36180  2021  봄  4 2021-04-27  2020_SEN2ND_1003       금강환경산업㈜   \n",
       "\n",
       "                         측정주소  법정동  행정동  행정리    PM10   PM2.5     온도     습도  \\\n",
       "0           경기도 이천시 중리동 386-1  중리동  중리동  NaN  377.98  285.92  16.87  92.21   \n",
       "1      경기도 이천시 신둔면 수광리 321-10  신둔면  신둔면  수광리  483.75  267.61  16.03  97.33   \n",
       "2      경기도 이천시 대월면 사동리 347-95  대월면  대월면  사동리  463.01  262.63  18.18  87.58   \n",
       "3         경기도 이천시 호법면 후안리 274  호법면  호법면  후안리  344.50  255.01  15.41  96.67   \n",
       "4      경기도 이천시 호법면  유산리 356-5  호법면  호법면  유산리  391.49  254.65  15.07  60.38   \n",
       "...                       ...  ...  ...  ...     ...     ...    ...    ...   \n",
       "36176   경기도 이천시 모가면 소고리 96-14  모가면  모가면  소고리    0.10    0.00  10.40  84.71   \n",
       "36177   경기도 이천시 모가면 소고리 96-14  모가면  모가면  소고리    0.10    0.00  10.72  86.29   \n",
       "36178   경기도 이천시 모가면 소고리 96-14  모가면  모가면  소고리    0.10    0.00  17.41  81.38   \n",
       "36179   경기도 이천시 모가면 소고리 96-14  모가면  모가면  소고리    0.10    0.00  19.10  70.04   \n",
       "36180   경기도 이천시 모가면 소고리 96-14  모가면  모가면  소고리    0.10    0.00  17.94  94.96   \n",
       "\n",
       "          소음         X좌표        Y좌표  \n",
       "0      46.97  127.432575  37.272679  \n",
       "1      47.51  127.405849  37.307484  \n",
       "2      47.00  127.494679  37.244241  \n",
       "3      46.37  127.423821  37.224129  \n",
       "4      60.76  127.441227  37.247723  \n",
       "...      ...         ...        ...  \n",
       "36176  50.60  127.462793  37.173993  \n",
       "36177  51.25  127.462793  37.173993  \n",
       "36178  46.38  127.462793  37.173993  \n",
       "36179  45.61  127.462793  37.173993  \n",
       "36180  45.79  127.462793  37.173993  \n",
       "\n",
       "[36181 rows x 17 columns]"
      ]
     },
     "execution_count": 165,
     "metadata": {},
     "output_type": "execute_result"
    }
   ],
   "source": [
    "icheon"
   ]
  },
  {
   "cell_type": "code",
   "execution_count": 27,
   "id": "3a576014",
   "metadata": {},
   "outputs": [
    {
     "data": {
      "text/plain": [
       "<AxesSubplot:xlabel='측정장소'>"
      ]
     },
     "execution_count": 27,
     "metadata": {},
     "output_type": "execute_result"
    },
    {
     "data": {
      "image/png": "[encoded data removed]",
      "text/plain": [
       "<Figure size 432x288 with 1 Axes>"
      ]
     },
     "metadata": {
      "needs_background": "light"
     },
     "output_type": "display_data"
    }
   ],
   "source": [
    "icheon.plot(kind='line',x='측정일시',y='PM10', label = '미세먼지')"
   ]
  },
  {
   "cell_type": "code",
   "execution_count": 100,
   "id": "6b52d011",
   "metadata": {},
   "outputs": [],
   "source": [
    "green = icheon.loc[icheon['측정장소'] == '후안1리마을회관']"
   ]
  },
  {
   "cell_type": "code",
   "execution_count": 101,
   "id": "d7c7ee53",
   "metadata": {
    "scrolled": true
   },
   "outputs": [],
   "source": [
    "green = green[['측정일시', 'PM10']]\n",
    "#green = green[['측정일시', 'PM2.5']]"
   ]
  },
  {
   "cell_type": "code",
   "execution_count": 102,
   "id": "21d67902",
   "metadata": {},
   "outputs": [],
   "source": [
    "#green['측정일시'] = pd.to_datetime(green['측정일시'])\n",
    "icheon['측정일시'] = pd.to_datetime(icheon['측정일시'])"
   ]
  },
  {
   "cell_type": "code",
   "execution_count": 103,
   "id": "2cc11082",
   "metadata": {},
   "outputs": [],
   "source": [
    "a = green.iloc[:,[0]]\n",
    "b = green.iloc[:,[1]]\n",
    "b= b.astype(float)\n",
    "green = pd.concat([a,b], axis=1)"
   ]
  },
  {
   "cell_type": "code",
   "execution_count": 1048,
   "id": "230dff4d",
   "metadata": {
    "scrolled": false
   },
   "outputs": [
    {
     "data": {
      "text/html": [
       "<div>\n",
       "<style scoped>\n",
       "    .dataframe tbody tr th:only-of-type {\n",
       "        vertical-align: middle;\n",
       "    }\n",
       "\n",
       "    .dataframe tbody tr th {\n",
       "        vertical-align: top;\n",
       "    }\n",
       "\n",
       "    .dataframe thead th {\n",
       "        text-align: right;\n",
       "    }\n",
       "</style>\n",
       "<table border=\"1\" class=\"dataframe\">\n",
       "  <thead>\n",
       "    <tr style=\"text-align: right;\">\n",
       "      <th></th>\n",
       "      <th>측정일시</th>\n",
       "      <th>PM10</th>\n",
       "    </tr>\n",
       "  </thead>\n",
       "  <tbody>\n",
       "    <tr>\n",
       "      <th>298</th>\n",
       "      <td>2019-03-03</td>\n",
       "      <td>129.79</td>\n",
       "    </tr>\n",
       "    <tr>\n",
       "      <th>130</th>\n",
       "      <td>2019-03-04</td>\n",
       "      <td>188.47</td>\n",
       "    </tr>\n",
       "    <tr>\n",
       "      <th>69</th>\n",
       "      <td>2019-03-05</td>\n",
       "      <td>217.19</td>\n",
       "    </tr>\n",
       "    <tr>\n",
       "      <th>149</th>\n",
       "      <td>2019-03-06</td>\n",
       "      <td>166.47</td>\n",
       "    </tr>\n",
       "    <tr>\n",
       "      <th>2874</th>\n",
       "      <td>2019-03-07</td>\n",
       "      <td>67.28</td>\n",
       "    </tr>\n",
       "    <tr>\n",
       "      <th>...</th>\n",
       "      <td>...</td>\n",
       "      <td>...</td>\n",
       "    </tr>\n",
       "    <tr>\n",
       "      <th>8994</th>\n",
       "      <td>2021-08-27</td>\n",
       "      <td>35.67</td>\n",
       "    </tr>\n",
       "    <tr>\n",
       "      <th>5258</th>\n",
       "      <td>2021-08-28</td>\n",
       "      <td>45.36</td>\n",
       "    </tr>\n",
       "    <tr>\n",
       "      <th>14822</th>\n",
       "      <td>2021-08-29</td>\n",
       "      <td>26.98</td>\n",
       "    </tr>\n",
       "    <tr>\n",
       "      <th>4051</th>\n",
       "      <td>2021-08-30</td>\n",
       "      <td>51.29</td>\n",
       "    </tr>\n",
       "    <tr>\n",
       "      <th>7010</th>\n",
       "      <td>2021-08-31</td>\n",
       "      <td>41.17</td>\n",
       "    </tr>\n",
       "  </tbody>\n",
       "</table>\n",
       "<p>904 rows × 2 columns</p>\n",
       "</div>"
      ],
      "text/plain": [
       "            측정일시    PM10\n",
       "298   2019-03-03  129.79\n",
       "130   2019-03-04  188.47\n",
       "69    2019-03-05  217.19\n",
       "149   2019-03-06  166.47\n",
       "2874  2019-03-07   67.28\n",
       "...          ...     ...\n",
       "8994  2021-08-27   35.67\n",
       "5258  2021-08-28   45.36\n",
       "14822 2021-08-29   26.98\n",
       "4051  2021-08-30   51.29\n",
       "7010  2021-08-31   41.17\n",
       "\n",
       "[904 rows x 2 columns]"
      ]
     },
     "execution_count": 1048,
     "metadata": {},
     "output_type": "execute_result"
    }
   ],
   "source": [
    "green.sort_values('측정일시')"
   ]
  },
  {
   "cell_type": "code",
   "execution_count": 1049,
   "id": "76320ca4",
   "metadata": {
    "scrolled": true
   },
   "outputs": [
    {
     "data": {
      "text/plain": [
       "Text(0.5, 1.0, '후안1리마을회관')"
      ]
     },
     "execution_count": 1049,
     "metadata": {},
     "output_type": "execute_result"
    },
    {
     "data": {
      "image/png": "[encoded data removed]",
      "text/plain": [
       "<Figure size 432x288 with 1 Axes>"
      ]
     },
     "metadata": {
      "needs_background": "light"
     },
     "output_type": "display_data"
    }
   ],
   "source": [
    "#1개 그래프\n",
    "green.plot(kind='line',x='측정일시',y='PM10', label = '미세먼지')\n",
    "#green.plot(kind='line',x='데이터 수집 시간',y='초미세먼지', label = '초미세먼지', color = 'orange')\n",
    "plt.title('후안1리마을회관')"
   ]
  },
  {
   "cell_type": "markdown",
   "id": "e3cbeddb",
   "metadata": {},
   "source": [
    "### 초미세먼지"
   ]
  },
  {
   "cell_type": "code",
   "execution_count": 97,
   "id": "3ee37101",
   "metadata": {},
   "outputs": [],
   "source": [
    "green = icheon.loc[icheon['측정장소'] == '후안1리마을회관']"
   ]
  },
  {
   "cell_type": "code",
   "execution_count": 99,
   "id": "5221cb7e",
   "metadata": {},
   "outputs": [],
   "source": [
    "green = green[['측정일시', 'PM2.5']]"
   ]
  },
  {
   "cell_type": "code",
   "execution_count": 1052,
   "id": "29ecf6c6",
   "metadata": {},
   "outputs": [],
   "source": [
    "green['측정일시'] = pd.to_datetime(green['측정일시'])"
   ]
  },
  {
   "cell_type": "code",
   "execution_count": 1053,
   "id": "10bcb87a",
   "metadata": {},
   "outputs": [],
   "source": [
    "a = green.iloc[:,[0]]\n",
    "b = green.iloc[:,[1]]\n",
    "b= b.astype(float)\n",
    "green = pd.concat([a,b], axis=1)"
   ]
  },
  {
   "cell_type": "code",
   "execution_count": 1054,
   "id": "6658239a",
   "metadata": {},
   "outputs": [
    {
     "data": {
      "text/html": [
       "<div>\n",
       "<style scoped>\n",
       "    .dataframe tbody tr th:only-of-type {\n",
       "        vertical-align: middle;\n",
       "    }\n",
       "\n",
       "    .dataframe tbody tr th {\n",
       "        vertical-align: top;\n",
       "    }\n",
       "\n",
       "    .dataframe thead th {\n",
       "        text-align: right;\n",
       "    }\n",
       "</style>\n",
       "<table border=\"1\" class=\"dataframe\">\n",
       "  <thead>\n",
       "    <tr style=\"text-align: right;\">\n",
       "      <th></th>\n",
       "      <th>측정일시</th>\n",
       "      <th>PM2.5</th>\n",
       "    </tr>\n",
       "  </thead>\n",
       "  <tbody>\n",
       "    <tr>\n",
       "      <th>298</th>\n",
       "      <td>2019-03-03</td>\n",
       "      <td>89.57</td>\n",
       "    </tr>\n",
       "    <tr>\n",
       "      <th>130</th>\n",
       "      <td>2019-03-04</td>\n",
       "      <td>129.13</td>\n",
       "    </tr>\n",
       "    <tr>\n",
       "      <th>69</th>\n",
       "      <td>2019-03-05</td>\n",
       "      <td>157.14</td>\n",
       "    </tr>\n",
       "    <tr>\n",
       "      <th>149</th>\n",
       "      <td>2019-03-06</td>\n",
       "      <td>120.17</td>\n",
       "    </tr>\n",
       "    <tr>\n",
       "      <th>2874</th>\n",
       "      <td>2019-03-07</td>\n",
       "      <td>49.86</td>\n",
       "    </tr>\n",
       "    <tr>\n",
       "      <th>...</th>\n",
       "      <td>...</td>\n",
       "      <td>...</td>\n",
       "    </tr>\n",
       "    <tr>\n",
       "      <th>8994</th>\n",
       "      <td>2021-08-27</td>\n",
       "      <td>30.14</td>\n",
       "    </tr>\n",
       "    <tr>\n",
       "      <th>5258</th>\n",
       "      <td>2021-08-28</td>\n",
       "      <td>38.73</td>\n",
       "    </tr>\n",
       "    <tr>\n",
       "      <th>14822</th>\n",
       "      <td>2021-08-29</td>\n",
       "      <td>22.72</td>\n",
       "    </tr>\n",
       "    <tr>\n",
       "      <th>4051</th>\n",
       "      <td>2021-08-30</td>\n",
       "      <td>43.42</td>\n",
       "    </tr>\n",
       "    <tr>\n",
       "      <th>7010</th>\n",
       "      <td>2021-08-31</td>\n",
       "      <td>33.96</td>\n",
       "    </tr>\n",
       "  </tbody>\n",
       "</table>\n",
       "<p>904 rows × 2 columns</p>\n",
       "</div>"
      ],
      "text/plain": [
       "            측정일시   PM2.5\n",
       "298   2019-03-03   89.57\n",
       "130   2019-03-04  129.13\n",
       "69    2019-03-05  157.14\n",
       "149   2019-03-06  120.17\n",
       "2874  2019-03-07   49.86\n",
       "...          ...     ...\n",
       "8994  2021-08-27   30.14\n",
       "5258  2021-08-28   38.73\n",
       "14822 2021-08-29   22.72\n",
       "4051  2021-08-30   43.42\n",
       "7010  2021-08-31   33.96\n",
       "\n",
       "[904 rows x 2 columns]"
      ]
     },
     "execution_count": 1054,
     "metadata": {},
     "output_type": "execute_result"
    }
   ],
   "source": [
    "green.sort_values('측정일시')"
   ]
  },
  {
   "cell_type": "code",
   "execution_count": 8,
   "id": "41276d04",
   "metadata": {},
   "outputs": [
    {
     "ename": "NameError",
     "evalue": "name 'green' is not defined",
     "output_type": "error",
     "traceback": [
      "\u001b[1;31m---------------------------------------------------------------------------\u001b[0m",
      "\u001b[1;31mNameError\u001b[0m                                 Traceback (most recent call last)",
      "\u001b[1;32m<ipython-input-8-82703631d1e2>\u001b[0m in \u001b[0;36m<module>\u001b[1;34m\u001b[0m\n\u001b[0;32m      1\u001b[0m \u001b[1;31m#1개 그래프\u001b[0m\u001b[1;33m\u001b[0m\u001b[1;33m\u001b[0m\u001b[1;33m\u001b[0m\u001b[0m\n\u001b[1;32m----> 2\u001b[1;33m \u001b[0mgreen\u001b[0m\u001b[1;33m.\u001b[0m\u001b[0mplot\u001b[0m\u001b[1;33m(\u001b[0m\u001b[0mkind\u001b[0m\u001b[1;33m=\u001b[0m\u001b[1;34m'line'\u001b[0m\u001b[1;33m,\u001b[0m\u001b[0mx\u001b[0m\u001b[1;33m=\u001b[0m\u001b[1;34m'측정일시'\u001b[0m\u001b[1;33m,\u001b[0m\u001b[0my\u001b[0m\u001b[1;33m=\u001b[0m\u001b[1;34m'PM2.5'\u001b[0m\u001b[1;33m,\u001b[0m \u001b[0mlabel\u001b[0m \u001b[1;33m=\u001b[0m \u001b[1;34m'초미세먼지'\u001b[0m\u001b[1;33m,\u001b[0m \u001b[0mcolor\u001b[0m \u001b[1;33m=\u001b[0m \u001b[1;34m'orange'\u001b[0m\u001b[1;33m)\u001b[0m\u001b[1;33m\u001b[0m\u001b[1;33m\u001b[0m\u001b[0m\n\u001b[0m\u001b[0;32m      3\u001b[0m \u001b[0mplt\u001b[0m\u001b[1;33m.\u001b[0m\u001b[0mtitle\u001b[0m\u001b[1;33m(\u001b[0m\u001b[1;34m'후안1리마을회관'\u001b[0m\u001b[1;33m)\u001b[0m\u001b[1;33m\u001b[0m\u001b[1;33m\u001b[0m\u001b[0m\n",
      "\u001b[1;31mNameError\u001b[0m: name 'green' is not defined"
     ]
    }
   ],
   "source": [
    "#1개 그래프\n",
    "green.plot(kind='line',x='측정일시',y='PM2.5', label = '초미세먼지', color = 'orange')\n",
    "plt.title('후안1리마을회관')"
   ]
  },
  {
   "cell_type": "markdown",
   "id": "4fc74e37",
   "metadata": {},
   "source": [
    "### 초미세먼지, 미세먼지(그래프2개)"
   ]
  },
  {
   "cell_type": "code",
   "execution_count": 1056,
   "id": "3b6bfabf",
   "metadata": {},
   "outputs": [],
   "source": [
    "green = icheon.loc[icheon['측정장소'] == '후안1리마을회관']"
   ]
  },
  {
   "cell_type": "code",
   "execution_count": 1057,
   "id": "1a343709",
   "metadata": {},
   "outputs": [],
   "source": [
    "green = green[['측정일시', 'PM10', 'PM2.5']]"
   ]
  },
  {
   "cell_type": "code",
   "execution_count": 1058,
   "id": "73b67f63",
   "metadata": {},
   "outputs": [],
   "source": [
    "green['측정일시'] = pd.to_datetime(green['측정일시'])"
   ]
  },
  {
   "cell_type": "code",
   "execution_count": 1059,
   "id": "f1c12b9f",
   "metadata": {
    "scrolled": false
   },
   "outputs": [],
   "source": [
    "green = green.sort_values('측정일시')"
   ]
  },
  {
   "cell_type": "code",
   "execution_count": 1060,
   "id": "66be5498",
   "metadata": {},
   "outputs": [],
   "source": [
    "a = green.iloc[:,[0]]\n",
    "b = green.iloc[:,[1]]\n",
    "c = green.iloc[:,[2]]\n",
    "b= b.astype(float)\n",
    "c= c.astype(float)\n",
    "green = pd.concat([a,b,c], axis=1)"
   ]
  },
  {
   "cell_type": "code",
   "execution_count": 1061,
   "id": "66518c3c",
   "metadata": {},
   "outputs": [
    {
     "data": {
      "image/png": "[encoded data removed]",
      "text/plain": [
       "<Figure size 432x288 with 1 Axes>"
      ]
     },
     "metadata": {
      "needs_background": "light"
     },
     "output_type": "display_data"
    }
   ],
   "source": [
    "plt.plot(a,b)\n",
    "plt.plot(a,c, color = 'orange')\n",
    "plt.title('후안1리마을회관')\n",
    "plt.legend(['미세먼지','초미세먼지'])\n",
    "\n",
    "plt.show()"
   ]
  },
  {
   "cell_type": "markdown",
   "id": "92fae34a",
   "metadata": {},
   "source": [
    "### 부발읍, 장호원읍, 창전동"
   ]
  },
  {
   "cell_type": "code",
   "execution_count": 5,
   "id": "62805f09",
   "metadata": {},
   "outputs": [],
   "source": [
    "changjeon = pd.read_csv(\"C:/Users/user/Desktop/NIA/icheon/changjeonconcat.csv\")\n",
    "bubal = pd.read_csv(\"C:/Users/user/Desktop/NIA/icheon/bubalconcat.csv\")\n",
    "janghowon = pd.read_csv(\"C:/Users/user/Desktop/NIA/icheon/janghowonconcat.csv\")"
   ]
  },
  {
   "cell_type": "code",
   "execution_count": 51,
   "id": "2e06d30b",
   "metadata": {},
   "outputs": [],
   "source": [
    "green = icheon[['날짜', 'PM10', 'PM2.5']]"
   ]
  },
  {
   "cell_type": "code",
   "execution_count": 52,
   "id": "15ad6fe5",
   "metadata": {},
   "outputs": [
    {
     "name": "stderr",
     "output_type": "stream",
     "text": [
      "<ipython-input-52-4cb20aad6b33>:1: SettingWithCopyWarning: \n",
      "A value is trying to be set on a copy of a slice from a DataFrame.\n",
      "Try using .loc[row_indexer,col_indexer] = value instead\n",
      "\n",
      "See the caveats in the documentation: https://pandas.pydata.org/pandas-docs/stable/user_guide/indexing.html#returning-a-view-versus-a-copy\n",
      "  green['날짜'] = pd.to_datetime(green['날짜'])\n"
     ]
    }
   ],
   "source": [
    "green['날짜'] = pd.to_datetime(green['날짜'])"
   ]
  },
  {
   "cell_type": "code",
   "execution_count": 53,
   "id": "45c2eec4",
   "metadata": {},
   "outputs": [],
   "source": [
    "a = green.iloc[:,[0]]\n",
    "b = green.iloc[:,[1]]\n",
    "c = green.iloc[:,[2]]\n",
    "b= b.astype(float)\n",
    "c= c.astype(float)\n",
    "green = pd.concat([a,b,c], axis=1)"
   ]
  },
  {
   "cell_type": "code",
   "execution_count": 56,
   "id": "890ba9cb",
   "metadata": {},
   "outputs": [
    {
     "data": {
      "text/html": [
       "<div>\n",
       "<style scoped>\n",
       "    .dataframe tbody tr th:only-of-type {\n",
       "        vertical-align: middle;\n",
       "    }\n",
       "\n",
       "    .dataframe tbody tr th {\n",
       "        vertical-align: top;\n",
       "    }\n",
       "\n",
       "    .dataframe thead th {\n",
       "        text-align: right;\n",
       "    }\n",
       "</style>\n",
       "<table border=\"1\" class=\"dataframe\">\n",
       "  <thead>\n",
       "    <tr style=\"text-align: right;\">\n",
       "      <th></th>\n",
       "      <th>PM2.5</th>\n",
       "    </tr>\n",
       "  </thead>\n",
       "  <tbody>\n",
       "    <tr>\n",
       "      <th>0</th>\n",
       "      <td>32.0</td>\n",
       "    </tr>\n",
       "    <tr>\n",
       "      <th>1</th>\n",
       "      <td>26.0</td>\n",
       "    </tr>\n",
       "    <tr>\n",
       "      <th>2</th>\n",
       "      <td>38.0</td>\n",
       "    </tr>\n",
       "    <tr>\n",
       "      <th>3</th>\n",
       "      <td>55.0</td>\n",
       "    </tr>\n",
       "    <tr>\n",
       "      <th>4</th>\n",
       "      <td>51.0</td>\n",
       "    </tr>\n",
       "    <tr>\n",
       "      <th>...</th>\n",
       "      <td>...</td>\n",
       "    </tr>\n",
       "    <tr>\n",
       "      <th>846</th>\n",
       "      <td>10.0</td>\n",
       "    </tr>\n",
       "    <tr>\n",
       "      <th>847</th>\n",
       "      <td>21.0</td>\n",
       "    </tr>\n",
       "    <tr>\n",
       "      <th>848</th>\n",
       "      <td>22.0</td>\n",
       "    </tr>\n",
       "    <tr>\n",
       "      <th>849</th>\n",
       "      <td>21.0</td>\n",
       "    </tr>\n",
       "    <tr>\n",
       "      <th>850</th>\n",
       "      <td>15.0</td>\n",
       "    </tr>\n",
       "  </tbody>\n",
       "</table>\n",
       "<p>851 rows × 1 columns</p>\n",
       "</div>"
      ],
      "text/plain": [
       "     PM2.5\n",
       "0     32.0\n",
       "1     26.0\n",
       "2     38.0\n",
       "3     55.0\n",
       "4     51.0\n",
       "..     ...\n",
       "846   10.0\n",
       "847   21.0\n",
       "848   22.0\n",
       "849   21.0\n",
       "850   15.0\n",
       "\n",
       "[851 rows x 1 columns]"
      ]
     },
     "execution_count": 56,
     "metadata": {},
     "output_type": "execute_result"
    }
   ],
   "source": [
    "c"
   ]
  },
  {
   "cell_type": "code",
   "execution_count": 30,
   "id": "41b77453",
   "metadata": {},
   "outputs": [
    {
     "data": {
      "image/png": "[encoded data removed]",
      "text/plain": [
       "<Figure size 432x288 with 1 Axes>"
      ]
     },
     "metadata": {
      "needs_background": "light"
     },
     "output_type": "display_data"
    }
   ],
   "source": [
    "plt.plot(a,b)\n",
    "plt.plot(a,c, color = 'orange')\n",
    "plt.title('창전동')\n",
    "plt.legend(['PM10','PM2.5'])\n",
    "\n",
    "plt.show()"
   ]
  },
  {
   "cell_type": "markdown",
   "id": "a45048d9",
   "metadata": {},
   "source": [
    "### 전체 시각화"
   ]
  },
  {
   "cell_type": "code",
   "execution_count": 22,
   "id": "db9d37bb",
   "metadata": {
    "scrolled": true
   },
   "outputs": [],
   "source": [
    "where = icheon['측정장소']"
   ]
  },
  {
   "cell_type": "code",
   "execution_count": 23,
   "id": "44e18ab1",
   "metadata": {},
   "outputs": [
    {
     "data": {
      "text/plain": [
       "0           이천시농업기술센터\n",
       "1             해강도자미술관\n",
       "2               사동삼거리\n",
       "3            후안1리마을회관\n",
       "4        오늘손칼국수해물찜 인근\n",
       "             ...     \n",
       "36176         금강환경산업㈜\n",
       "36177         금강환경산업㈜\n",
       "36178         금강환경산업㈜\n",
       "36179         금강환경산업㈜\n",
       "36180         금강환경산업㈜\n",
       "Name: 측정장소, Length: 36181, dtype: object"
      ]
     },
     "execution_count": 23,
     "metadata": {},
     "output_type": "execute_result"
    }
   ],
   "source": [
    "where"
   ]
  },
  {
   "cell_type": "code",
   "execution_count": 25,
   "id": "ed12ce20",
   "metadata": {
    "scrolled": false
   },
   "outputs": [
    {
     "data": {
      "text/plain": [
       "0           이천시농업기술센터\n",
       "1             해강도자미술관\n",
       "2               사동삼거리\n",
       "3            후안1리마을회관\n",
       "4        오늘손칼국수해물찜 인근\n",
       "5          백사면 행정복지센터\n",
       "6               ㈜청정개발\n",
       "7               이천보건소\n",
       "8               마장도서관\n",
       "9                남천공원\n",
       "10            아이에스동서㈜\n",
       "11         부발읍 행정복지센터\n",
       "12             서희테마파크\n",
       "13            신진리 사거리\n",
       "14               예스파크\n",
       "15           창전지구대 인근\n",
       "17         모가면 행정복지센터\n",
       "18            이천알앤에이㈜\n",
       "19         설성면 행정복지센터\n",
       "21               설봉공원\n",
       "22            안흥주공아파트\n",
       "23          사음2동 마을회관\n",
       "24              라온건설㈜\n",
       "25               대월농협\n",
       "26           효양도서관 인근\n",
       "27              산수유마을\n",
       "29         장호원 행정복지센터\n",
       "30            송정신일아파트\n",
       "31               온천공원\n",
       "33         관고동 행정복지센터\n",
       "41             장호원삼거리\n",
       "42          율면 행정복지센터\n",
       "44           거평아파트맞은편\n",
       "47            중앙산업(주)\n",
       "52            ㈜삼성환경개발\n",
       "62              SK건설㈜\n",
       "67             ㈜그린케미칼\n",
       "75                백족산\n",
       "83          관고동 버스정류장\n",
       "96       어석1리 마을회관 인근\n",
       "102               노성산\n",
       "104             하나케이㈜\n",
       "112         표교1리 마을회관\n",
       "135           금강환경산업㈜\n",
       "189            현대코아빌딩\n",
       "199        이천시 종합복지타운\n",
       "394       롯데캐슬2차 건설현장\n",
       "14853          이마트이천점\n",
       "Name: 측정장소, dtype: object"
      ]
     },
     "execution_count": 25,
     "metadata": {},
     "output_type": "execute_result"
    }
   ],
   "source": [
    "where.drop_duplicates()"
   ]
  },
  {
   "cell_type": "code",
   "execution_count": 4,
   "id": "0a2dc4f6",
   "metadata": {},
   "outputs": [
    {
     "ename": "NameError",
     "evalue": "name 'changjeon' is not defined",
     "output_type": "error",
     "traceback": [
      "\u001b[1;31m---------------------------------------------------------------------------\u001b[0m",
      "\u001b[1;31mNameError\u001b[0m                                 Traceback (most recent call last)",
      "\u001b[1;32m<ipython-input-4-8d8167395733>\u001b[0m in \u001b[0;36m<module>\u001b[1;34m\u001b[0m\n\u001b[1;32m----> 1\u001b[1;33m \u001b[0mchangjeon\u001b[0m\u001b[1;33m\u001b[0m\u001b[1;33m\u001b[0m\u001b[0m\n\u001b[0m",
      "\u001b[1;31mNameError\u001b[0m: name 'changjeon' is not defined"
     ]
    }
   ],
   "source": [
    "changjeon"
   ]
  },
  {
   "cell_type": "code",
   "execution_count": 6,
   "id": "f8338bc2",
   "metadata": {},
   "outputs": [],
   "source": [
    "changjeon['날짜'] = pd.to_datetime(changjeon['날짜'])\n",
    "bubal['날짜'] = pd.to_datetime(bubal['날짜'])\n",
    "janghowon['날짜'] = pd.to_datetime(janghowon['날짜'])"
   ]
  },
  {
   "cell_type": "code",
   "execution_count": 7,
   "id": "8a7ef47f",
   "metadata": {},
   "outputs": [
    {
     "data": {
      "text/plain": [
       "<matplotlib.legend.Legend at 0x22b925886a0>"
      ]
     },
     "execution_count": 7,
     "metadata": {},
     "output_type": "execute_result"
    },
    {
     "data": {
      "image/png": "[encoded data removed]",
      "text/plain": [
       "<Figure size 432x288 with 1 Axes>"
      ]
     },
     "metadata": {
      "needs_background": "light"
     },
     "output_type": "display_data"
    }
   ],
   "source": [
    "plt.plot(changjeon['날짜'], changjeon['PM2.5'], label='창전읍')\n",
    "plt.plot(bubal['날짜'], bubal['PM2.5'], label='부발읍')\n",
    "plt.plot(janghowon['날짜'], janghowon['PM2.5'], label='장호원읍')\n",
    "plt.legend()"
   ]
  },
  {
   "cell_type": "code",
   "execution_count": null,
   "id": "629bb818",
   "metadata": {},
   "outputs": [],
   "source": [
    "plt.figure(figsize=(10,5))\n",
    "plt.title(\"9월 지점별 기온 추이\", fontsize=15)\n",
    "for spot_ in ['이천시농업기술센터','해강도자미술관','사동삼거리','후안1리마을회관','오늘손칼국수해물찜 인근','백사면 행정복지센터','㈜청정개발','이천보건소','마장도서관','남천공원','아이에스동서㈜','부발읍 행정복지센터','서희테마파크']:\n",
    "    d_ = df[df[\"측정장소\"]==spot_]\n",
    "    plt.plot(d_[\"측정일시\"], d_[\"PM10\"], \"-\", label=str(spot_), alpha=.6)\n",
    "plt.grid()\n",
    "plt.legend(fontsize=1)\n",
    "plt.xticks(rotation=90)\n",
    "plt.show()"
   ]
  },
  {
   "cell_type": "code",
   "execution_count": null,
   "id": "a70b3548",
   "metadata": {},
   "outputs": [],
   "source": []
  },
  {
   "cell_type": "code",
   "execution_count": null,
   "id": "94f28b66",
   "metadata": {},
   "outputs": [],
   "source": []
  },
  {
   "cell_type": "code",
   "execution_count": null,
   "id": "5b4cceec",
   "metadata": {},
   "outputs": [],
   "source": []
  }
 ],
 "metadata": {
  "kernelspec": {
   "display_name": "Python 3",
   "language": "python",
   "name": "python3"
  },
  "language_info": {
   "codemirror_mode": {
    "name": "ipython",
    "version": 3
   },
   "file_extension": ".py",
   "mimetype": "text/x-python",
   "name": "python",
   "nbconvert_exporter": "python",
   "pygments_lexer": "ipython3",
   "version": "3.8.8"
  }
 },
 "nbformat": 4,
 "nbformat_minor": 5
}
