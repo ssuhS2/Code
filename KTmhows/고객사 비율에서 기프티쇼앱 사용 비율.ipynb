{
 "cells": [
  {
   "cell_type": "code",
   "execution_count": 1,
   "metadata": {},
   "outputs": [],
   "source": [
    "import pandas as pd"
   ]
  },
  {
   "cell_type": "code",
   "execution_count": 4,
   "metadata": {},
   "outputs": [],
   "source": [
    "file1 = pd.read_excel('C:/Users/CPBUserN/Desktop/으억/PMS1234_2019_B2C_데이터_user.xlsx', sheet_name='워크시트 익스포트', encoding='cp949')\n",
    "file2 = pd.read_excel('C:/Users/CPBUserN/Desktop/으억/PMS1234_2019_B2C_데이터_user.xlsx', sheet_name='Sheet1', encoding='cp949')\n",
    "file3 = pd.read_excel('C:/Users/CPBUserN/Desktop/으억/PMS1234_2019_B2C_데이터_user.xlsx', sheet_name='Sheet2', encoding='cp949')\n",
    "file4 = pd.read_excel('C:/Users/CPBUserN/Desktop/으억/PMS1234_2019_B2C_데이터_user.xlsx', sheet_name='Sheet3', encoding='cp949')\n",
    "file5 = pd.read_excel('C:/Users/CPBUserN/Desktop/으억/PMS1234_2019_B2C_데이터_user.xlsx', sheet_name='Sheet4', encoding='cp949')\n"
   ]
  },
  {
   "cell_type": "code",
   "execution_count": 5,
   "metadata": {},
   "outputs": [],
   "source": [
    "frame = [file1,file2,file3,file4,file5]\n",
    "file = pd.concat(frame)"
   ]
  },
  {
   "cell_type": "code",
   "execution_count": 8,
   "metadata": {},
   "outputs": [],
   "source": [
    "file = pd.DataFrame(file)"
   ]
  },
  {
   "cell_type": "code",
   "execution_count": 28,
   "metadata": {},
   "outputs": [],
   "source": [
    "giftshow = list(set(file['고객사명'].loc[file['고객사명'].str.contains('기프티쇼')].values))\n",
    "giftshow = pd.DataFrame(giftshow, columns=['고객사명'])"
   ]
  },
  {
   "cell_type": "code",
   "execution_count": 30,
   "metadata": {},
   "outputs": [],
   "source": [
    "gs = ['기프티쇼']*len(giftshow)\n",
    "giftshow['고객사'] = gs"
   ]
  },
  {
   "cell_type": "code",
   "execution_count": 32,
   "metadata": {},
   "outputs": [],
   "source": [
    "file_giftshow = pd.merge(file, giftshow)"
   ]
  },
  {
   "cell_type": "code",
   "execution_count": 37,
   "metadata": {},
   "outputs": [],
   "source": [
    "giftshow_count = file_giftshow['고객사명'].count()"
   ]
  },
  {
   "cell_type": "code",
   "execution_count": 40,
   "metadata": {},
   "outputs": [],
   "source": [
    "file_count = file['고객사명'].count()"
   ]
  },
  {
   "cell_type": "code",
   "execution_count": 42,
   "metadata": {},
   "outputs": [
    {
     "data": {
      "text/plain": [
       "9.805444940558921"
      ]
     },
     "execution_count": 42,
     "metadata": {},
     "output_type": "execute_result"
    }
   ],
   "source": [
    "(giftshow_count/file_count)*100"
   ]
  },
  {
   "cell_type": "code",
   "execution_count": null,
   "metadata": {},
   "outputs": [],
   "source": []
  }
 ],
 "metadata": {
  "kernelspec": {
   "display_name": "Python 3",
   "language": "python",
   "name": "python3"
  },
  "language_info": {
   "codemirror_mode": {
    "name": "ipython",
    "version": 3
   },
   "file_extension": ".py",
   "mimetype": "text/x-python",
   "name": "python",
   "nbconvert_exporter": "python",
   "pygments_lexer": "ipython3",
   "version": "3.7.6"
  }
 },
 "nbformat": 4,
 "nbformat_minor": 4
}
