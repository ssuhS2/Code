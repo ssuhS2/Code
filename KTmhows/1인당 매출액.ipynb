{
 "cells": [
  {
   "cell_type": "code",
   "execution_count": 1,
   "metadata": {},
   "outputs": [],
   "source": [
    "import pandas as pd"
   ]
  },
  {
   "cell_type": "code",
   "execution_count": 2,
   "metadata": {},
   "outputs": [],
   "source": [
    "member_total = pd.read_excel('C:/Users/CPBUserN/Desktop/으억/한국경제신문관련회원데이터추출_20200921_회원.xlsx', encoding = 'cp949')"
   ]
  },
  {
   "cell_type": "code",
   "execution_count": 3,
   "metadata": {},
   "outputs": [],
   "source": [
    "member_matching1 = pd.read_excel('C:/Users/CPBUserN/Desktop/으억/회원matching.xlsx', sheet_name='Sheet1' ,encoding = 'cp949')\n",
    "member_matching2 = pd.read_excel('C:/Users/CPBUserN/Desktop/으억/회원matching.xlsx', sheet_name='Sheet2' ,encoding = 'cp949')\n",
    "member_matching3 = pd.read_excel('C:/Users/CPBUserN/Desktop/으억/회원matching.xlsx', sheet_name='Sheet3' ,encoding = 'cp949')\n",
    "member_matching4 = pd.read_excel('C:/Users/CPBUserN/Desktop/으억/회원matching.xlsx', sheet_name='Sheet4' ,encoding = 'cp949')\n",
    "member_matching5 = pd.read_excel('C:/Users/CPBUserN/Desktop/으억/회원matching.xlsx', sheet_name='Sheet5' ,encoding = 'cp949')"
   ]
  },
  {
   "cell_type": "code",
   "execution_count": 4,
   "metadata": {},
   "outputs": [],
   "source": [
    "frame = [ member_matching1,member_matching2,member_matching3,member_matching4,member_matching5 ]\n",
    "member_matching = pd.concat(frame)"
   ]
  },
  {
   "cell_type": "code",
   "execution_count": 52,
   "metadata": {},
   "outputs": [
    {
     "data": {
      "text/html": [
       "<div>\n",
       "<style scoped>\n",
       "    .dataframe tbody tr th:only-of-type {\n",
       "        vertical-align: middle;\n",
       "    }\n",
       "\n",
       "    .dataframe tbody tr th {\n",
       "        vertical-align: top;\n",
       "    }\n",
       "\n",
       "    .dataframe thead th {\n",
       "        text-align: right;\n",
       "    }\n",
       "</style>\n",
       "<table border=\"1\" class=\"dataframe\">\n",
       "  <thead>\n",
       "    <tr style=\"text-align: right;\">\n",
       "      <th></th>\n",
       "      <th>Unnamed: 0</th>\n",
       "      <th>고객사명</th>\n",
       "      <th>발신자번호</th>\n",
       "      <th>수신자번호</th>\n",
       "      <th>브랜드명</th>\n",
       "      <th>상품명</th>\n",
       "      <th>단가</th>\n",
       "      <th>메세지내용</th>\n",
       "      <th>발송일시</th>\n",
       "      <th>교환일시</th>\n",
       "      <th>생년</th>\n",
       "      <th>성별</th>\n",
       "    </tr>\n",
       "  </thead>\n",
       "  <tbody>\n",
       "    <tr>\n",
       "      <th>0</th>\n",
       "      <td>0</td>\n",
       "      <td>K쇼핑</td>\n",
       "      <td>NSA6YYtXlifD+p8BPklURQ==</td>\n",
       "      <td>XzCClDfJ3wMMiptwnweRBg==</td>\n",
       "      <td>스타벅스</td>\n",
       "      <td>그린티 프라푸치노 Tall</td>\n",
       "      <td>6300</td>\n",
       "      <td>항상 응원합니다. 힘내세요.</td>\n",
       "      <td>20190101025608</td>\n",
       "      <td>NaN</td>\n",
       "      <td>1965</td>\n",
       "      <td>FEMALE</td>\n",
       "    </tr>\n",
       "    <tr>\n",
       "      <th>1</th>\n",
       "      <td>1</td>\n",
       "      <td>K쇼핑</td>\n",
       "      <td>NSA6YYtXlifD+p8BPklURQ==</td>\n",
       "      <td>XzCClDfJ3wMMiptwnweRBg==</td>\n",
       "      <td>스타벅스</td>\n",
       "      <td>카페아메리카노 Tall</td>\n",
       "      <td>4100</td>\n",
       "      <td>감사합니다.</td>\n",
       "      <td>20190131232954</td>\n",
       "      <td>NaN</td>\n",
       "      <td>1965</td>\n",
       "      <td>FEMALE</td>\n",
       "    </tr>\n",
       "    <tr>\n",
       "      <th>2</th>\n",
       "      <td>2</td>\n",
       "      <td>K쇼핑</td>\n",
       "      <td>NSA6YYtXlifD+p8BPklURQ==</td>\n",
       "      <td>XzCClDfJ3wMMiptwnweRBg==</td>\n",
       "      <td>투썸플레이스</td>\n",
       "      <td>마카롱</td>\n",
       "      <td>2200</td>\n",
       "      <td>감사합니다.</td>\n",
       "      <td>20190405234913</td>\n",
       "      <td>NaN</td>\n",
       "      <td>1965</td>\n",
       "      <td>FEMALE</td>\n",
       "    </tr>\n",
       "    <tr>\n",
       "      <th>3</th>\n",
       "      <td>3</td>\n",
       "      <td>기프티쇼_컬쳐랜드</td>\n",
       "      <td>ANKebcMuSS3enu4aecsU0A==</td>\n",
       "      <td>VLpW6B/nUcXcKMho5i8Nlg==</td>\n",
       "      <td>GS25</td>\n",
       "      <td>페레로)킨더조이(보이)1500</td>\n",
       "      <td>1500</td>\n",
       "      <td>이제 18세네 나이 값해라</td>\n",
       "      <td>20190101000001</td>\n",
       "      <td>2.019011e+13</td>\n",
       "      <td>2002</td>\n",
       "      <td>MALE</td>\n",
       "    </tr>\n",
       "    <tr>\n",
       "      <th>4</th>\n",
       "      <td>4</td>\n",
       "      <td>K쇼핑</td>\n",
       "      <td>cK9+3NVXObFg11u1g9WUfA==</td>\n",
       "      <td>MjCc+QfwLUZr8AehwWZgWg==</td>\n",
       "      <td>스타벅스</td>\n",
       "      <td>그린티 프라푸치노 Tall</td>\n",
       "      <td>6300</td>\n",
       "      <td>감사합니다.</td>\n",
       "      <td>20190101001606</td>\n",
       "      <td>NaN</td>\n",
       "      <td>1973</td>\n",
       "      <td>MALE</td>\n",
       "    </tr>\n",
       "  </tbody>\n",
       "</table>\n",
       "</div>"
      ],
      "text/plain": [
       "   Unnamed: 0       고객사명                     발신자번호                     수신자번호  \\\n",
       "0           0        K쇼핑  NSA6YYtXlifD+p8BPklURQ==  XzCClDfJ3wMMiptwnweRBg==   \n",
       "1           1        K쇼핑  NSA6YYtXlifD+p8BPklURQ==  XzCClDfJ3wMMiptwnweRBg==   \n",
       "2           2        K쇼핑  NSA6YYtXlifD+p8BPklURQ==  XzCClDfJ3wMMiptwnweRBg==   \n",
       "3           3  기프티쇼_컬쳐랜드  ANKebcMuSS3enu4aecsU0A==  VLpW6B/nUcXcKMho5i8Nlg==   \n",
       "4           4        K쇼핑  cK9+3NVXObFg11u1g9WUfA==  MjCc+QfwLUZr8AehwWZgWg==   \n",
       "\n",
       "     브랜드명               상품명    단가            메세지내용            발송일시  \\\n",
       "0    스타벅스    그린티 프라푸치노 Tall  6300  항상 응원합니다. 힘내세요.  20190101025608   \n",
       "1    스타벅스      카페아메리카노 Tall  4100           감사합니다.  20190131232954   \n",
       "2  투썸플레이스               마카롱  2200           감사합니다.  20190405234913   \n",
       "3    GS25  페레로)킨더조이(보이)1500  1500   이제 18세네 나이 값해라  20190101000001   \n",
       "4    스타벅스    그린티 프라푸치노 Tall  6300           감사합니다.  20190101001606   \n",
       "\n",
       "           교환일시    생년      성별  \n",
       "0           NaN  1965  FEMALE  \n",
       "1           NaN  1965  FEMALE  \n",
       "2           NaN  1965  FEMALE  \n",
       "3  2.019011e+13  2002    MALE  \n",
       "4           NaN  1973    MALE  "
      ]
     },
     "execution_count": 52,
     "metadata": {},
     "output_type": "execute_result"
    }
   ],
   "source": [
    "member_matching.head()"
   ]
  },
  {
   "cell_type": "code",
   "execution_count": 14,
   "metadata": {},
   "outputs": [],
   "source": [
    "member_total_count = member_total['Unnamed: 1'].count()          # KTmhows 기프티쇼 전체 회원 수"
   ]
  },
  {
   "cell_type": "code",
   "execution_count": 20,
   "metadata": {},
   "outputs": [],
   "source": [
    "member_matching_count = pd.Series(member_matching['발신자번호'])"
   ]
  },
  {
   "cell_type": "code",
   "execution_count": 26,
   "metadata": {},
   "outputs": [],
   "source": [
    "member_matching_count = pd.Series(pd.unique(member_matching_count)).count() "
   ]
  },
  {
   "cell_type": "code",
   "execution_count": 33,
   "metadata": {},
   "outputs": [
    {
     "data": {
      "text/plain": [
       "29075"
      ]
     },
     "execution_count": 33,
     "metadata": {},
     "output_type": "execute_result"
    }
   ],
   "source": [
    "member_matching_count   # 매칭 데이터 회원 수 ( 중복 제거 )"
   ]
  },
  {
   "cell_type": "code",
   "execution_count": 48,
   "metadata": {
    "scrolled": true
   },
   "outputs": [
    {
     "data": {
      "text/plain": [
       "0.0953775902847714"
      ]
     },
     "execution_count": 48,
     "metadata": {},
     "output_type": "execute_result"
    }
   ],
   "source": [
    "member_total_count   # 기프티쇼 전체 회원수\n",
    "\n",
    "member_matching_count/member_total_count"
   ]
  },
  {
   "cell_type": "code",
   "execution_count": 37,
   "metadata": {},
   "outputs": [],
   "source": [
    "member_matching_sales = member_matching['단가'].sum()"
   ]
  },
  {
   "cell_type": "code",
   "execution_count": 38,
   "metadata": {},
   "outputs": [
    {
     "data": {
      "text/plain": [
       "111652.78280309544"
      ]
     },
     "execution_count": 38,
     "metadata": {},
     "output_type": "execute_result"
    }
   ],
   "source": [
    "member_matching_sales/member_matching_count   # 전체 매칭 데이터 - 1인당 매출액"
   ]
  },
  {
   "cell_type": "code",
   "execution_count": 39,
   "metadata": {},
   "outputs": [],
   "source": [
    "person_matching5 = pd.read_excel('C:/Users/CPBUserN/Desktop/으억/sample_person.xlsx', encoding = 'cp949')\n"
   ]
  },
  {
   "cell_type": "code",
   "execution_count": 40,
   "metadata": {},
   "outputs": [],
   "source": [
    "person_matching5_count = pd.Series(person_matching5['발신자번호'])"
   ]
  },
  {
   "cell_type": "code",
   "execution_count": 43,
   "metadata": {},
   "outputs": [],
   "source": [
    "person_matching5_count = pd.Series(pd.unique(person_matching5_count)).count()"
   ]
  },
  {
   "cell_type": "code",
   "execution_count": 44,
   "metadata": {},
   "outputs": [
    {
     "data": {
      "text/plain": [
       "27084"
      ]
     },
     "execution_count": 44,
     "metadata": {},
     "output_type": "execute_result"
    }
   ],
   "source": [
    "person_matching5_count   # 개인거래"
   ]
  },
  {
   "cell_type": "code",
   "execution_count": 45,
   "metadata": {},
   "outputs": [],
   "source": [
    "person_matching5_sales = person_matching5['단가'].sum()"
   ]
  },
  {
   "cell_type": "code",
   "execution_count": 46,
   "metadata": {},
   "outputs": [
    {
     "data": {
      "text/plain": [
       "988017230"
      ]
     },
     "execution_count": 46,
     "metadata": {},
     "output_type": "execute_result"
    }
   ],
   "source": [
    "person_matching5_sales"
   ]
  },
  {
   "cell_type": "code",
   "execution_count": 47,
   "metadata": {},
   "outputs": [
    {
     "data": {
      "text/plain": [
       "36479.73822182839"
      ]
     },
     "execution_count": 47,
     "metadata": {},
     "output_type": "execute_result"
    }
   ],
   "source": [
    "person_matching5_sales/person_matching5_count   # 개인거래 1인당 매출액"
   ]
  },
  {
   "cell_type": "code",
   "execution_count": null,
   "metadata": {},
   "outputs": [],
   "source": []
  }
 ],
 "metadata": {
  "kernelspec": {
   "display_name": "Python 3",
   "language": "python",
   "name": "python3"
  },
  "language_info": {
   "codemirror_mode": {
    "name": "ipython",
    "version": 3
   },
   "file_extension": ".py",
   "mimetype": "text/x-python",
   "name": "python",
   "nbconvert_exporter": "python",
   "pygments_lexer": "ipython3",
   "version": "3.7.6"
  }
 },
 "nbformat": 4,
 "nbformat_minor": 4
}
