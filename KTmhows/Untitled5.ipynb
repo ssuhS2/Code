{
 "cells": [
  {
   "cell_type": "code",
   "execution_count": 1,
   "metadata": {},
   "outputs": [],
   "source": [
    "import pandas as pd\n",
    "\n",
    "f1 = pd.read_excel('C:/Users/CPBUserN/Desktop/KTmhows/KTmhows제공데이터/PMS1234_2019_B2C_데이터_user.xlsx',sheet_name='워크시트 익스포트', encoding='cp949')\n",
    "f2 = pd.read_excel('C:/Users/CPBUserN/Desktop/KTmhows/KTmhows제공데이터/PMS1234_2019_B2C_데이터_user.xlsx',sheet_name='Sheet1', encoding='cp949')\n",
    "f3 = pd.read_excel('C:/Users/CPBUserN/Desktop/KTmhows/KTmhows제공데이터/PMS1234_2019_B2C_데이터_user.xlsx',sheet_name='Sheet2', encoding='cp949')\n",
    "f4 = pd.read_excel('C:/Users/CPBUserN/Desktop/KTmhows/KTmhows제공데이터/PMS1234_2019_B2C_데이터_user.xlsx',sheet_name='Sheet3', encoding='cp949')\n",
    "f5 = pd.read_excel('C:/Users/CPBUserN/Desktop/KTmhows/KTmhows제공데이터/PMS1234_2019_B2C_데이터_user.xlsx',sheet_name='Sheet4', encoding='cp949')\n",
    "\n",
    "\n",
    "f_frames = [f1,f2,f3,f4,f5]\n",
    "five_salesdata = pd.concat(f_frames)"
   ]
  },
  {
   "cell_type": "code",
   "execution_count": 4,
   "metadata": {},
   "outputs": [],
   "source": [
    "five_salesdata_count = pd.Series(five_salesdata['발신자번호'])\n",
    "five_salesdata_count = pd.Series(pd.unique(five_salesdata_count)).count()"
   ]
  },
  {
   "cell_type": "code",
   "execution_count": 5,
   "metadata": {},
   "outputs": [
    {
     "data": {
      "text/plain": [
       "185027"
      ]
     },
     "execution_count": 5,
     "metadata": {},
     "output_type": "execute_result"
    }
   ],
   "source": [
    "five_salesdata_count   #500만건 회원 수"
   ]
  },
  {
   "cell_type": "code",
   "execution_count": 7,
   "metadata": {},
   "outputs": [],
   "source": [
    "five_salesdata_sales = five_salesdata['단가'].sum()"
   ]
  },
  {
   "cell_type": "code",
   "execution_count": 8,
   "metadata": {},
   "outputs": [
    {
     "data": {
      "text/plain": [
       "132582467320"
      ]
     },
     "execution_count": 8,
     "metadata": {},
     "output_type": "execute_result"
    }
   ],
   "source": [
    "five_salesdata_sales     #500만건 매출액"
   ]
  },
  {
   "cell_type": "code",
   "execution_count": 9,
   "metadata": {},
   "outputs": [
    {
     "data": {
      "text/plain": [
       "716557.406864944"
      ]
     },
     "execution_count": 9,
     "metadata": {},
     "output_type": "execute_result"
    }
   ],
   "source": [
    "five_salesdata_sales/five_salesdata_count"
   ]
  },
  {
   "cell_type": "code",
   "execution_count": null,
   "metadata": {},
   "outputs": [],
   "source": []
  }
 ],
 "metadata": {
  "kernelspec": {
   "display_name": "Python 3",
   "language": "python",
   "name": "python3"
  },
  "language_info": {
   "codemirror_mode": {
    "name": "ipython",
    "version": 3
   },
   "file_extension": ".py",
   "mimetype": "text/x-python",
   "name": "python",
   "nbconvert_exporter": "python",
   "pygments_lexer": "ipython3",
   "version": "3.7.6"
  }
 },
 "nbformat": 4,
 "nbformat_minor": 4
}
