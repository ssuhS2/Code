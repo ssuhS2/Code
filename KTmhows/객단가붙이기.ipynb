{
 "cells": [
  {
   "cell_type": "code",
   "execution_count": 1,
   "metadata": {},
   "outputs": [],
   "source": [
    "import pandas as pd"
   ]
  },
  {
   "cell_type": "code",
   "execution_count": 7,
   "metadata": {},
   "outputs": [],
   "source": [
    "file1 = pd.read_excel('C:/Users/CPBUserN/Desktop/KTmhows/회원matching.xlsx',sheet_name='Sheet1', encoding='cp949')"
   ]
  },
  {
   "cell_type": "code",
   "execution_count": 8,
   "metadata": {},
   "outputs": [],
   "source": [
    "file2 = pd.read_excel('C:/Users/CPBUserN/Desktop/KTmhows/회원matching.xlsx',sheet_name='Sheet2', encoding='cp949')\n",
    "file3 = pd.read_excel('C:/Users/CPBUserN/Desktop/KTmhows/회원matching.xlsx',sheet_name='Sheet3', encoding='cp949')\n",
    "file4 = pd.read_excel('C:/Users/CPBUserN/Desktop/KTmhows/회원matching.xlsx',sheet_name='Sheet4', encoding='cp949')\n",
    "file5 = pd.read_excel('C:/Users/CPBUserN/Desktop/KTmhows/회원matching.xlsx',sheet_name='Sheet5', encoding='cp949')\n",
    "\n",
    "frame=[file1,file2,file3,file4,file5]\n",
    "\n",
    "file = pd.concat(frame)"
   ]
  },
  {
   "cell_type": "code",
   "execution_count": null,
   "metadata": {},
   "outputs": [],
   "source": []
  }
 ],
 "metadata": {
  "kernelspec": {
   "display_name": "Python 3",
   "language": "python",
   "name": "python3"
  },
  "language_info": {
   "codemirror_mode": {
    "name": "ipython",
    "version": 3
   },
   "file_extension": ".py",
   "mimetype": "text/x-python",
   "name": "python",
   "nbconvert_exporter": "python",
   "pygments_lexer": "ipython3",
   "version": "3.7.6"
  }
 },
 "nbformat": 4,
 "nbformat_minor": 4
}
